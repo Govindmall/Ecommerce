{
 "cells": [
  {
   "cell_type": "code",
   "execution_count": 1,
   "id": "6b594674-c0ed-4eeb-b24d-61f14b238c4b",
   "metadata": {},
   "outputs": [
    {
     "data": {
      "text/html": [
       "\n",
       "            <div>\n",
       "                <p><b>SparkSession - in-memory</b></p>\n",
       "                \n",
       "        <div>\n",
       "            <p><b>SparkContext</b></p>\n",
       "\n",
       "            <p><a href=\"http://10.235.26.194:4042\">Spark UI</a></p>\n",
       "\n",
       "            <dl>\n",
       "              <dt>Version</dt>\n",
       "                <dd><code>v3.5.5</code></dd>\n",
       "              <dt>Master</dt>\n",
       "                <dd><code>local[*]</code></dd>\n",
       "              <dt>AppName</dt>\n",
       "                <dd><code>MySparkApp</code></dd>\n",
       "            </dl>\n",
       "        </div>\n",
       "        \n",
       "            </div>\n",
       "        "
      ],
      "text/plain": [
       "<pyspark.sql.session.SparkSession at 0x1e840c2acd0>"
      ]
     },
     "execution_count": 1,
     "metadata": {},
     "output_type": "execute_result"
    }
   ],
   "source": [
    "import findspark\n",
    "findspark.init()\n",
    " \n",
    "from pyspark.sql import SparkSession\n",
    " \n",
    "spark = SparkSession.builder \\\n",
    "    .appName(\"MySparkApp\") \\\n",
    "    .getOrCreate()\n",
    " \n",
    "spark"
   ]
  },
  {
   "cell_type": "code",
   "execution_count": 2,
   "id": "119d6240-c2f3-40ea-b8ad-8a64ba403bc5",
   "metadata": {},
   "outputs": [],
   "source": [
    "# Step 1: Import SparkContext\n",
    "from pyspark import SparkContext\n",
    "\n",
    " \n",
    "# Step 2: Initialize SparkContext (use getOrCreate to avoid multiple context errors)\n",
    "sc = SparkContext.getOrCreate()"
   ]
  },
  {
   "cell_type": "code",
   "execution_count": 5,
   "id": "097d7400-46fd-4c78-bb9c-f8fa8d40144e",
   "metadata": {},
   "outputs": [],
   "source": [
    "sales = spark.read.option(\"header\", \"true\").option(\"inferSchema\", \"true\").csv(\"C:/Users/sakmahe/OneDrive - Capgemini/Desktop/E-Commerce/sparsales.csv\")\n"
   ]
  },
  {
   "cell_type": "code",
   "execution_count": 7,
   "id": "ae2567e6-9f53-4fcd-a40b-dfd400ab0a39",
   "metadata": {},
   "outputs": [
    {
     "name": "stdout",
     "output_type": "stream",
     "text": [
      "+--------------------+----------------+\n",
      "|              Region|Total Units Sold|\n",
      "+--------------------+----------------+\n",
      "|Middle East and N...|         3013431|\n",
      "|Australia and Oce...|         2111786|\n",
      "|              Europe|         6582322|\n",
      "|  Sub-Saharan Africa|         6642380|\n",
      "|Central America a...|         2698776|\n",
      "|       North America|          484760|\n",
      "|                Asia|         3620036|\n",
      "+--------------------+----------------+\n",
      "\n"
     ]
    }
   ],
   "source": [
    "from pyspark.sql.functions import col,sum\n",
    "\n",
    "regionsales = sales.groupBy(\"Region\").agg(sum(\"Units Sold\").alias(\"Total Units Sold\"))\n",
    "regionsales.show()"
   ]
  },
  {
   "cell_type": "code",
   "execution_count": 8,
   "id": "751f6346-e0ab-4e4a-90f0-114b7c3dbeb3",
   "metadata": {},
   "outputs": [],
   "source": [
    "regionsales.write.parquet(\"C:/Users/sakmahe/OneDrive - Capgemini/Desktop/unit_sold.parquet\")"
   ]
  },
  {
   "cell_type": "code",
   "execution_count": null,
   "id": "0f9a5821-9fbd-4f43-8d64-7f721c82e1ca",
   "metadata": {},
   "outputs": [],
   "source": []
  }
 ],
 "metadata": {
  "kernelspec": {
   "display_name": "Python 3 (ipykernel)",
   "language": "python",
   "name": "python3"
  },
  "language_info": {
   "codemirror_mode": {
    "name": "ipython",
    "version": 3
   },
   "file_extension": ".py",
   "mimetype": "text/x-python",
   "name": "python",
   "nbconvert_exporter": "python",
   "pygments_lexer": "ipython3",
   "version": "3.9.13"
  }
 },
 "nbformat": 4,
 "nbformat_minor": 5
}
