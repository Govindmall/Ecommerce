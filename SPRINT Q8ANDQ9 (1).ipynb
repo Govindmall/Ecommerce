{
 "cells": [
  {
   "cell_type": "code",
   "execution_count": 6,
   "id": "5bcf18de-c10f-4fb7-a3c8-c45fc16eedd9",
   "metadata": {},
   "outputs": [
    {
     "data": {
      "text/html": [
       "\n",
       "            <div>\n",
       "                <p><b>SparkSession - in-memory</b></p>\n",
       "                \n",
       "        <div>\n",
       "            <p><b>SparkContext</b></p>\n",
       "\n",
       "            <p><a href=\"http://10.235.6.83:4042\">Spark UI</a></p>\n",
       "\n",
       "            <dl>\n",
       "              <dt>Version</dt>\n",
       "                <dd><code>v3.5.5</code></dd>\n",
       "              <dt>Master</dt>\n",
       "                <dd><code>local[*]</code></dd>\n",
       "              <dt>AppName</dt>\n",
       "                <dd><code>MySparkApp</code></dd>\n",
       "            </dl>\n",
       "        </div>\n",
       "        \n",
       "            </div>\n",
       "        "
      ],
      "text/plain": [
       "<pyspark.sql.session.SparkSession at 0x13aaa5990d0>"
      ]
     },
     "execution_count": 6,
     "metadata": {},
     "output_type": "execute_result"
    }
   ],
   "source": [
    "import findspark\n",
    "findspark.init()\n",
    " \n",
    "from pyspark.sql import SparkSession\n",
    " \n",
    "spark = SparkSession.builder \\\n",
    "    .appName(\"MySparkApp\") \\\n",
    "    .getOrCreate()\n",
    " \n",
    "spark"
   ]
  },
  {
   "cell_type": "code",
   "execution_count": 7,
   "id": "88db63b3-811e-4687-b4c5-9b8e70a80e7e",
   "metadata": {},
   "outputs": [],
   "source": [
    "ecommerceDF = spark.read.option(\"header\", \"true\").option(\"inferSchema\", \"true\").csv(\"C:/Users/shemantk/OneDrive - Capgemini/Documents/SPRINT Ecommerce Data/5000 Sales Records.csv\")"
   ]
  },
  {
   "cell_type": "code",
   "execution_count": 8,
   "id": "650b80b9-6f8d-4756-8507-5b6dd8b5133e",
   "metadata": {},
   "outputs": [
    {
     "name": "stdout",
     "output_type": "stream",
     "text": [
      "root\n",
      " |-- Region: string (nullable = true)\n",
      " |-- Country: string (nullable = true)\n",
      " |-- Item Type: string (nullable = true)\n",
      " |-- Sales Channel: string (nullable = true)\n",
      " |-- Order Priority: string (nullable = true)\n",
      " |-- Order Date: string (nullable = true)\n",
      " |-- Order ID: integer (nullable = true)\n",
      " |-- Ship Date: string (nullable = true)\n",
      " |-- Units Sold: integer (nullable = true)\n",
      " |-- Unit Price: double (nullable = true)\n",
      " |-- Unit Cost: double (nullable = true)\n",
      " |-- Total Revenue: double (nullable = true)\n",
      " |-- Total Cost: double (nullable = true)\n",
      " |-- Total Profit: double (nullable = true)\n",
      "\n",
      "+--------------------+--------------------+---------------+-------------+--------------+----------+---------+----------+----------+----------+---------+-------------+----------+------------+\n",
      "|              Region|             Country|      Item Type|Sales Channel|Order Priority|Order Date| Order ID| Ship Date|Units Sold|Unit Price|Unit Cost|Total Revenue|Total Cost|Total Profit|\n",
      "+--------------------+--------------------+---------------+-------------+--------------+----------+---------+----------+----------+----------+---------+-------------+----------+------------+\n",
      "|Central America a...| Antigua and Barbuda|      Baby Food|       Online|             M|12/20/2013|957081544| 1/11/2014|       552|    255.28|   159.42|    140914.56|  87999.84|    52914.72|\n",
      "|Central America a...|              Panama|         Snacks|      Offline|             C|  7/5/2010|301644504| 7/26/2010|      2167|    152.58|    97.44|    330640.86| 211152.48|   119488.38|\n",
      "|              Europe|      Czech Republic|      Beverages|      Offline|             C| 9/12/2011|478051030| 9/29/2011|      4778|     47.45|    31.79|     226716.1| 151892.62|    74823.48|\n",
      "|                Asia|         North Korea|         Cereal|      Offline|             L| 5/13/2010|892599952| 6/15/2010|      9016|     205.7|   117.11|    1854591.2|1055863.76|   798727.44|\n",
      "|                Asia|           Sri Lanka|         Snacks|      Offline|             C| 7/20/2015|571902596| 7/27/2015|      7542|    152.58|    97.44|   1150758.36| 734892.48|   415865.88|\n",
      "|Middle East and N...|             Morocco|  Personal Care|      Offline|             L| 11/8/2010|412882792|11/22/2010|        48|     81.73|    56.67|      3923.04|   2720.16|     1202.88|\n",
      "|Australia and Oce...|Federated States ...|        Clothes|      Offline|             H| 3/28/2011|932776868| 5/10/2011|      8258|    109.28|    35.84|    902434.24| 295966.72|   606467.52|\n",
      "|              Europe|Bosnia and Herzeg...|        Clothes|       Online|             M|10/14/2013|919133651| 11/4/2013|       927|    109.28|    35.84|    101302.56|  33223.68|    68078.88|\n",
      "|Middle East and N...|         Afghanistan|        Clothes|      Offline|             M| 8/27/2016|579814469| 10/5/2016|      8841|    109.28|    35.84|    966144.48| 316861.44|   649283.04|\n",
      "|  Sub-Saharan Africa|            Ethiopia|      Baby Food|       Online|             M| 4/13/2015|192993152|  5/7/2015|      9817|    255.28|   159.42|   2506083.76|1565026.14|   941057.62|\n",
      "|Middle East and N...|              Turkey|Office Supplies|      Offline|             C| 9/25/2013|557156026|10/15/2013|      3704|    651.21|   524.96|   2412081.84|1944451.84|    467630.0|\n",
      "|Middle East and N...|                Oman|      Cosmetics|       Online|             M| 5/12/2013|741101920| 5/17/2013|      7382|     437.2|   263.33|    3227410.4|1943902.06|  1283508.34|\n",
      "|                Asia|            Malaysia|         Cereal|      Offline|             L| 7/31/2016|333942162| 8/25/2016|      9762|     205.7|   117.11|    2008043.4|1143227.82|   864815.58|\n",
      "|Central America a...|         Saint Lucia|      Cosmetics|      Offline|             H|  7/6/2015|795100581| 7/16/2015|      6786|     437.2|   263.33|    2966839.2|1786957.38|  1179881.82|\n",
      "|Central America a...|Saint Vincent and...|      Baby Food|       Online|             L|11/28/2010|504313504| 12/3/2010|      6428|    255.28|   159.42|   1640939.84|1024751.76|   616188.08|\n",
      "|Middle East and N...|             Lebanon|           Meat|      Offline|             H|12/17/2015|611629760| 1/31/2016|      3693|    421.89|   364.69|   1558039.77|1346800.17|    211239.6|\n",
      "|              Europe|             Austria|         Cereal|      Offline|             C| 8/13/2014|987410676|  9/6/2014|      5616|     205.7|   117.11|    1155211.2| 657689.76|   497521.44|\n",
      "|              Europe|            Bulgaria|Office Supplies|       Online|             L|10/31/2010|672330081|11/29/2010|      6266|    651.21|   524.96|   4080481.86|3289399.36|    791082.5|\n",
      "|       North America|              Mexico|      Beverages|       Online|             C| 3/13/2017|127374303| 3/20/2017|      1742|     47.45|    31.79|      82657.9|  55378.18|    27279.72|\n",
      "|Central America a...| Trinidad and Tobago|      Baby Food|      Offline|             C| 4/16/2013|783842170|  6/1/2013|      5172|    255.28|   159.42|   1320308.16| 824520.24|   495787.92|\n",
      "+--------------------+--------------------+---------------+-------------+--------------+----------+---------+----------+----------+----------+---------+-------------+----------+------------+\n",
      "only showing top 20 rows\n",
      "\n"
     ]
    }
   ],
   "source": [
    "ecommerceDF.printSchema()\n",
    "ecommerceDF.show()"
   ]
  },
  {
   "cell_type": "markdown",
   "id": "daa86f6b-93e5-46bb-aaa8-458843874ecd",
   "metadata": {},
   "source": [
    "### 8.Display the number of orders for each item."
   ]
  },
  {
   "cell_type": "code",
   "execution_count": 9,
   "id": "46b3da8b-b0c6-4392-bece-3a697e825af3",
   "metadata": {},
   "outputs": [
    {
     "name": "stdout",
     "output_type": "stream",
     "text": [
      "+---------------+----------------+\n",
      "|      Item Type|Number of Orders|\n",
      "+---------------+----------------+\n",
      "|      Baby Food|             445|\n",
      "|         Cereal|             385|\n",
      "|           Meat|             399|\n",
      "|      Household|             424|\n",
      "|     Vegetables|             410|\n",
      "|      Beverages|             447|\n",
      "|Office Supplies|             420|\n",
      "|      Cosmetics|             424|\n",
      "|  Personal Care|             415|\n",
      "|         Fruits|             447|\n",
      "|         Snacks|             398|\n",
      "|        Clothes|             386|\n",
      "+---------------+----------------+\n",
      "\n"
     ]
    }
   ],
   "source": [
    "# Load data into a DataFrame (assuming you've already loaded your data)\n",
    "df = spark.read.option(\"header\", \"true\").csv(\"C:/Users/shemantk/OneDrive - Capgemini/Documents/SPRINT Ecommerce Data/5000 Sales Records.csv\")\n",
    "\n",
    " \n",
    "# Group by Item Type and count number of orders\n",
    "item_order_counts = df.groupBy(\"Item Type\").count()\n",
    " \n",
    "# Rename the count column for clarity\n",
    "item_order_counts = item_order_counts.withColumnRenamed(\"count\", \"Number of Orders\")\n",
    " \n",
    "# Show the result\n",
    "item_order_counts.show()\n",
    "\n",
    "# Write the result to Parquet\n",
    "item_order_counts.write.mode(\"overwrite\").parquet(\"C:/Users/shemantk/OneDrive - Capgemini/Documents/SPRINT Ecommerce Data/itemOrder_parquet\")"
   ]
  },
  {
   "cell_type": "markdown",
   "id": "244e6a9a-7527-4f05-8028-74b4fc0b4cfd",
   "metadata": {},
   "source": [
    "### 9.Display the country with highest sale."
   ]
  },
  {
   "cell_type": "code",
   "execution_count": 11,
   "id": "7d0d4042-d18d-4459-afb2-7f88bff93d89",
   "metadata": {},
   "outputs": [
    {
     "name": "stdout",
     "output_type": "stream",
     "text": [
      "+-------+-------------------+\n",
      "|Country|        Total_Sales|\n",
      "+-------+-------------------+\n",
      "| Rwanda|6.039873958999999E7|\n",
      "+-------+-------------------+\n",
      "\n"
     ]
    }
   ],
   "source": [
    "from pyspark.sql import SparkSession\n",
    "from pyspark.sql.functions import sum, desc\n",
    "\n",
    "# Create Spark session\n",
    "spark = SparkSession.builder.appName(\"DistinctCountries\").master(\"local[*]\").getOrCreate()\n",
    "\n",
    "# Read the CSV file into DataFrame\n",
    "salesDF = spark.read.option(\"header\", \"true\").csv(r\"C:\\Users\\shemantk\\OneDrive - Capgemini\\Documents\\SPRINT Ecommerce Data\\5000 Sales Records.csv\")\n",
    "\n",
    "# Coalesce to a single partition (optional)\n",
    "salesDF1 = salesDF.coalesce(1)\n",
    "\n",
    "# Group by 'Country' and sum 'Total Revenue'\n",
    "countrySalesDF = salesDF1.groupBy(\"Country\").agg(sum(\"Total Revenue\").alias(\"Total_Sales\")).persist()\n",
    "\n",
    "# Find the country with the highest total sales\n",
    "topCountryDF = countrySalesDF.orderBy(desc(\"Total_Sales\")).limit(1)\n",
    "\n",
    "# Show the result\n",
    "topCountryDF.show()\n",
    "\n",
    "# Write the result to Parquet\n",
    "topCountryDF.write.mode(\"overwrite\").parquet(\"C:/Users/shemantk/OneDrive - Capgemini/Documents/SPRINT Ecommerce Data/topCountry_parquet\")\n",
    "\n",
    "# Stop Spark session\n",
    "spark.stop()"
   ]
  },
  {
   "cell_type": "code",
   "execution_count": null,
   "id": "48033831-647f-44ff-8620-a38943d23725",
   "metadata": {},
   "outputs": [],
   "source": []
  }
 ],
 "metadata": {
  "kernelspec": {
   "display_name": "Python 3 (ipykernel)",
   "language": "python",
   "name": "python3"
  },
  "language_info": {
   "codemirror_mode": {
    "name": "ipython",
    "version": 3
   },
   "file_extension": ".py",
   "mimetype": "text/x-python",
   "name": "python",
   "nbconvert_exporter": "python",
   "pygments_lexer": "ipython3",
   "version": "3.9.13"
  }
 },
 "nbformat": 4,
 "nbformat_minor": 5
}
