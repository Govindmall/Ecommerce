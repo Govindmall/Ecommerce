{
 "cells": [
  {
   "cell_type": "code",
   "execution_count": 1,
   "id": "fab82afd-df5d-4e93-aa8a-d69adbe026bf",
   "metadata": {},
   "outputs": [
    {
     "data": {
      "text/html": [
       "\n",
       "            <div>\n",
       "                <p><b>SparkSession - in-memory</b></p>\n",
       "                \n",
       "        <div>\n",
       "            <p><b>SparkContext</b></p>\n",
       "\n",
       "            <p><a href=\"http://10.235.26.194:4041\">Spark UI</a></p>\n",
       "\n",
       "            <dl>\n",
       "              <dt>Version</dt>\n",
       "                <dd><code>v3.5.5</code></dd>\n",
       "              <dt>Master</dt>\n",
       "                <dd><code>local[*]</code></dd>\n",
       "              <dt>AppName</dt>\n",
       "                <dd><code>MySparkApp</code></dd>\n",
       "            </dl>\n",
       "        </div>\n",
       "        \n",
       "            </div>\n",
       "        "
      ],
      "text/plain": [
       "<pyspark.sql.session.SparkSession at 0x1cc6cd5bcd0>"
      ]
     },
     "execution_count": 1,
     "metadata": {},
     "output_type": "execute_result"
    }
   ],
   "source": [
    "import findspark\n",
    "findspark.init()\n",
    "\n",
    "from pyspark.sql import SparkSession\n",
    "\n",
    "spark = SparkSession.builder \\\n",
    "    .appName(\"MySparkApp\") \\\n",
    "    .getOrCreate()\n",
    "\n",
    "spark"
   ]
  },
  {
   "cell_type": "code",
   "execution_count": 2,
   "id": "c2ea6c6c-abdd-4198-88e0-36aec6f89369",
   "metadata": {},
   "outputs": [],
   "source": [
    "from pyspark import SparkContext\n",
    "\n",
    "# Step 2: Initialize SparkContext (use getOrCreate to avoid multiple context errors)\n",
    "sc = SparkContext.getOrCreate()"
   ]
  },
  {
   "cell_type": "code",
   "execution_count": 3,
   "id": "07cfa9bf-f874-446e-8128-b95f66eeb58c",
   "metadata": {},
   "outputs": [],
   "source": [
    "from pyspark.sql import SparkSession\n",
    "from pyspark.sql.functions import to_date, col, year, count\n",
    "\n",
    "# Create Spark session\n",
    "spark = SparkSession.builder \\\n",
    "    .appName(\"DistinctCountries\") \\\n",
    "    .master(\"local[*]\") \\\n",
    "    .getOrCreate()"
   ]
  },
  {
   "cell_type": "code",
   "execution_count": 4,
   "id": "50220bca-9d96-4f8e-9aac-80e1f6bbefae",
   "metadata": {},
   "outputs": [],
   "source": [
    "salesDF = spark.read.option(\"header\", \"true\") \\\n",
    "    .csv(\"C:/Users/sdattake/OneDrive - Capgemini/Desktop/E-com/sparsales.csv\")"
   ]
  },
  {
   "cell_type": "code",
   "execution_count": 5,
   "id": "4798fe65-4847-494e-9fc4-f8ed2927b016",
   "metadata": {},
   "outputs": [],
   "source": [
    "# Optionally coalesce to a single partition\n",
    "salesDF = salesDF.coalesce(1)"
   ]
  },
  {
   "cell_type": "code",
   "execution_count": 6,
   "id": "61ba3310-24ca-461c-8689-b34e2baeca27",
   "metadata": {},
   "outputs": [],
   "source": [
    "yearwiseSalesDF = salesDF \\\n",
    "    .withColumn(\"Order_Date_Parsed\", to_date(col(\"Order Date\"), \"M/d/yyyy\")) \\\n",
    "    .withColumn(\"Year\", year(col(\"Order_Date_Parsed\"))) \\\n",
    "    .filter(col(\"Year\").isNotNull()) \\\n",
    "    .groupBy(\"Year\") \\\n",
    "    .agg(count(\"*\").alias(\"Number_of_Sales\")) \\\n",
    "    .orderBy(\"Year\")"
   ]
  },
  {
   "cell_type": "code",
   "execution_count": 7,
   "id": "9543c6a6-35a0-4440-9d66-d8c15e2bcbce",
   "metadata": {},
   "outputs": [
    {
     "name": "stdout",
     "output_type": "stream",
     "text": [
      "+----+---------------+\n",
      "|Year|Number_of_Sales|\n",
      "+----+---------------+\n",
      "|2010|            402|\n",
      "|2011|            389|\n",
      "|2012|            405|\n",
      "|2013|            392|\n",
      "|2014|            396|\n",
      "|2015|            403|\n",
      "|2016|            413|\n",
      "|2017|            212|\n",
      "+----+---------------+\n",
      "\n"
     ]
    }
   ],
   "source": [
    "yearwiseSalesDF.show()"
   ]
  },
  {
   "cell_type": "code",
   "execution_count": 8,
   "id": "76c01c44-7145-4e51-83c4-a82f2afd2925",
   "metadata": {},
   "outputs": [],
   "source": [
    "yearwiseSalesDF.write.parquet(\"C:/Users/sdattake/OneDrive - Capgemini/Desktop/E-com/Results/Sprintq7.parquet\")"
   ]
  },
  {
   "cell_type": "code",
   "execution_count": 8,
   "id": "e4e3dea7-57c7-486d-b6a1-53895559b14e",
   "metadata": {},
   "outputs": [],
   "source": [
    "yearwiseSalesDF.write.csv(\"C:/Users/sdattake/OneDrive - Capgemini/Desktop/E-com/Results/Sprintq7.csv\")"
   ]
  },
  {
   "cell_type": "code",
   "execution_count": null,
   "id": "77fd3af5-55fc-4ee6-81d2-f21679b8bfb8",
   "metadata": {},
   "outputs": [],
   "source": []
  }
 ],
 "metadata": {
  "kernelspec": {
   "display_name": "Python 3 (ipykernel)",
   "language": "python",
   "name": "python3"
  },
  "language_info": {
   "codemirror_mode": {
    "name": "ipython",
    "version": 3
   },
   "file_extension": ".py",
   "mimetype": "text/x-python",
   "name": "python",
   "nbconvert_exporter": "python",
   "pygments_lexer": "ipython3",
   "version": "3.9.13"
  }
 },
 "nbformat": 4,
 "nbformat_minor": 5
}
