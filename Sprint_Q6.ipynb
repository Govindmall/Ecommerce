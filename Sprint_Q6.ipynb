{
 "cells": [
  {
   "cell_type": "code",
   "execution_count": 2,
   "id": "2a9acd14-f3b0-46ed-ae62-cfd2f88c1ebb",
   "metadata": {},
   "outputs": [
    {
     "data": {
      "text/html": [
       "\n",
       "            <div>\n",
       "                <p><b>SparkSession - in-memory</b></p>\n",
       "                \n",
       "        <div>\n",
       "            <p><b>SparkContext</b></p>\n",
       "\n",
       "            <p><a href=\"http://10.235.26.194:4040\">Spark UI</a></p>\n",
       "\n",
       "            <dl>\n",
       "              <dt>Version</dt>\n",
       "                <dd><code>v3.5.5</code></dd>\n",
       "              <dt>Master</dt>\n",
       "                <dd><code>local[*]</code></dd>\n",
       "              <dt>AppName</dt>\n",
       "                <dd><code>MySparkApp</code></dd>\n",
       "            </dl>\n",
       "        </div>\n",
       "        \n",
       "            </div>\n",
       "        "
      ],
      "text/plain": [
       "<pyspark.sql.session.SparkSession at 0x2437ee4c910>"
      ]
     },
     "execution_count": 2,
     "metadata": {},
     "output_type": "execute_result"
    }
   ],
   "source": [
    "import findspark\n",
    "findspark.init()\n",
    "\n",
    "from pyspark.sql import SparkSession\n",
    "\n",
    "spark = SparkSession.builder \\\n",
    "    .appName(\"MySparkApp\") \\\n",
    "    .getOrCreate()\n",
    "\n",
    "spark"
   ]
  },
  {
   "cell_type": "code",
   "execution_count": 3,
   "id": "6af997e8-9cc7-41c6-971a-97381f1cab61",
   "metadata": {},
   "outputs": [],
   "source": [
    "from pyspark import SparkContext\n",
    "\n",
    "# Step 2: Initialize SparkContext (use getOrCreate to avoid multiple context errors)\n",
    "sc = SparkContext.getOrCreate()"
   ]
  },
  {
   "cell_type": "code",
   "execution_count": 4,
   "id": "d4f71878-167a-4799-a8c9-2679c3bc5b9d",
   "metadata": {},
   "outputs": [],
   "source": [
    "spark = SparkSession.builder \\\n",
    "    .appName(\"DistinctCountries\") \\\n",
    "    .master(\"local[*]\") \\\n",
    "    .getOrCreate()\n"
   ]
  },
  {
   "cell_type": "code",
   "execution_count": 5,
   "id": "085f9916-5d30-4d87-8bd1-bc75742cf108",
   "metadata": {},
   "outputs": [],
   "source": [
    "salesDF = spark.read.option(\"header\", \"true\").option(\"inferSchema\",\"true\").csv(\"C:/Users/sdattake/OneDrive - Capgemini/Desktop/E-com/sparsales.csv\")"
   ]
  },
  {
   "cell_type": "code",
   "execution_count": 6,
   "id": "da8da32a-233c-4dbd-861f-4d60b6bc3db6",
   "metadata": {},
   "outputs": [],
   "source": [
    "salesDF = salesDF.coalesce(1)\n"
   ]
  },
  {
   "cell_type": "code",
   "execution_count": 7,
   "id": "f05f972e-96f7-4652-b23e-f9a357021648",
   "metadata": {},
   "outputs": [],
   "source": [
    "from pyspark.sql import SparkSession\n",
    "from pyspark.sql.functions import asc\n",
    "\n",
    "itemsPriceCostDF = salesDF.select(\"Item Type\", \"Unit Price\", \"Unit Cost\") \\\n",
    "    .orderBy(asc(\"Unit Price\"), asc(\"Unit Cost\"))\n",
    "\n",
    "\n"
   ]
  },
  {
   "cell_type": "code",
   "execution_count": 8,
   "id": "11043dd9-25dd-4ec2-be5f-02a1cb56c02c",
   "metadata": {},
   "outputs": [
    {
     "name": "stdout",
     "output_type": "stream",
     "text": [
      "+---------+----------+---------+\n",
      "|Item Type|Unit Price|Unit Cost|\n",
      "+---------+----------+---------+\n",
      "|   Fruits|      9.33|     6.92|\n",
      "|   Fruits|      9.33|     6.92|\n",
      "|   Fruits|      9.33|     6.92|\n",
      "|   Fruits|      9.33|     6.92|\n",
      "|   Fruits|      9.33|     6.92|\n",
      "|   Fruits|      9.33|     6.92|\n",
      "|   Fruits|      9.33|     6.92|\n",
      "|   Fruits|      9.33|     6.92|\n",
      "|   Fruits|      9.33|     6.92|\n",
      "|   Fruits|      9.33|     6.92|\n",
      "|   Fruits|      9.33|     6.92|\n",
      "|   Fruits|      9.33|     6.92|\n",
      "|   Fruits|      9.33|     6.92|\n",
      "|   Fruits|      9.33|     6.92|\n",
      "|   Fruits|      9.33|     6.92|\n",
      "|   Fruits|      9.33|     6.92|\n",
      "|   Fruits|      9.33|     6.92|\n",
      "|   Fruits|      9.33|     6.92|\n",
      "|   Fruits|      9.33|     6.92|\n",
      "|   Fruits|      9.33|     6.92|\n",
      "+---------+----------+---------+\n",
      "only showing top 20 rows\n",
      "\n"
     ]
    }
   ],
   "source": [
    "itemsPriceCostDF.show()\n"
   ]
  },
  {
   "cell_type": "code",
   "execution_count": 29,
   "id": "36a28717-adfa-4e5c-afea-daa81eaa929e",
   "metadata": {},
   "outputs": [],
   "source": [
    "itemsPriceCostDF.write.parquet(\"C:/Users/sdattake/OneDrive - Capgemini/Desktop/E-com/Results/unitPriceCostq6.parquet\")\n",
    "\n"
   ]
  },
  {
   "cell_type": "code",
   "execution_count": 9,
   "id": "936a2179-e0d5-4e85-b2a3-4c99db787671",
   "metadata": {},
   "outputs": [],
   "source": [
    "itemsPriceCostDF.write.csv(\"C:/Users/sdattake/OneDrive - Capgemini/Desktop/E-com/Results/unitPriceCostq6.csv\")"
   ]
  },
  {
   "cell_type": "code",
   "execution_count": null,
   "id": "22dd9747-13a1-49e7-923e-0ddfe8a90567",
   "metadata": {},
   "outputs": [],
   "source": []
  }
 ],
 "metadata": {
  "kernelspec": {
   "display_name": "Python 3 (ipykernel)",
   "language": "python",
   "name": "python3"
  },
  "language_info": {
   "codemirror_mode": {
    "name": "ipython",
    "version": 3
   },
   "file_extension": ".py",
   "mimetype": "text/x-python",
   "name": "python",
   "nbconvert_exporter": "python",
   "pygments_lexer": "ipython3",
   "version": "3.9.13"
  }
 },
 "nbformat": 4,
 "nbformat_minor": 5
}
