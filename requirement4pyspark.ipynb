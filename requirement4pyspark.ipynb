{
 "cells": [
  {
   "cell_type": "code",
   "execution_count": 1,
   "id": "73485a92-75b3-4307-8980-28d52fefa902",
   "metadata": {},
   "outputs": [
    {
     "data": {
      "text/html": [
       "\n",
       "            <div>\n",
       "                <p><b>SparkSession - in-memory</b></p>\n",
       "                \n",
       "        <div>\n",
       "            <p><b>SparkContext</b></p>\n",
       "\n",
       "            <p><a href=\"http://10.235.51.42:4040\">Spark UI</a></p>\n",
       "\n",
       "            <dl>\n",
       "              <dt>Version</dt>\n",
       "                <dd><code>v3.5.5</code></dd>\n",
       "              <dt>Master</dt>\n",
       "                <dd><code>local[*]</code></dd>\n",
       "              <dt>AppName</dt>\n",
       "                <dd><code>MySparkApp</code></dd>\n",
       "            </dl>\n",
       "        </div>\n",
       "        \n",
       "            </div>\n",
       "        "
      ],
      "text/plain": [
       "<pyspark.sql.session.SparkSession at 0x2402a4f5b90>"
      ]
     },
     "execution_count": 1,
     "metadata": {},
     "output_type": "execute_result"
    }
   ],
   "source": [
    "import findspark\n",
    "findspark.init()\n",
    "from pyspark.sql import SparkSession\n",
    "spark = SparkSession.builder.appName(\"MySparkApp\").getOrCreate()\n",
    "spark"
   ]
  },
  {
   "cell_type": "code",
   "execution_count": 17,
   "id": "49ee95de-3fa3-41de-87bc-f409c49f3165",
   "metadata": {},
   "outputs": [
    {
     "name": "stdout",
     "output_type": "stream",
     "text": [
      "+-------------+\n",
      "|    Item Type|\n",
      "+-------------+\n",
      "|Personal Care|\n",
      "+-------------+\n",
      "\n"
     ]
    }
   ],
   "source": [
    "#### Requirement 4\n",
    "\n",
    "from pyspark.sql import Row\n",
    "from pyspark.sql.functions import col,array_contains\n",
    "from pyspark.sql.types import ArrayType,DoubleType,BooleanType\n",
    "from pyspark.sql.types import StructType,StructField,StringType,IntegerType\n",
    "salesDF=spark.read.option(\"header\",True).csv(\"C:/Users/gomall/Downloads/sparsales.csv\")\n",
    "salesDF1=salesDF.coalesce(1)\n",
    "resultDF= salesDF1.filter(col(\"Item Type\").like(\"%a%a%\")).select(\"Item Type\").distinct()\n",
    "resultDF.show()\n",
    "resultDF.write.parquet(\"C:/Users/gomall/Desktop/requirement4pysaprk.parquet\")\n",
    "\n"
   ]
  },
  {
   "cell_type": "code",
   "execution_count": null,
   "id": "262251ab-ae59-4053-b60b-158b4eb2447f",
   "metadata": {},
   "outputs": [],
   "source": [
    "## requirement5 \n",
    "\n",
    "from pyspark.sql import Row\n",
    "from pyspark.sql.functions import col,array_contains\n",
    "from pyspark.sql.types import ArrayType,DoubleType,BooleanType\n",
    "from pyspark.sql.types import StructType,StructField,StringType,IntegerType\n",
    "from pyspark.sql.window import Window\n",
    "from pyspark.sql.functions import row_number, rank, dense_rank, avg\n",
    "salesDF=spark.read.option(\"header\",True).csv(\"C:/Users/gomall/Downloads/sparsales.csv\")\n",
    "# 3. Aggregate total units sold per region & country\n",
    "salesDF1=salesDF.coalesce(1)\n",
    "agg_df = salesDF1.groupBy(\"Region\", \"Country\").agg(sum(\"Units Sold\").alias(\"TotalUnitsSold\"))\n",
    " \n",
    "# 4. Define a window partitioned by region, ordered by TotalUnitsSold desc\n",
    "window_spec = Window.partitionBy(\"Region\").orderBy(col(\"TotalUnitsSold\").desc())\n",
    " \n",
    "# 5. Add rank column\n",
    "ranked_df = agg_df.withColumn(\"rank\",row_number().over(window_spec))\n",
    " \n",
    "# 6. Filter to keep only the top-ranked country in each region\n",
    "result_df = ranked_df.filter(col(\"rank\") == 1).select(\"Region\", \"Country\", \"TotalUnitsSold\")\n",
    "result_df.show()\n",
    "result_df.write.parquet(\"C:/Users/gomall/Desktop/requirement5pysaprk.parquet\")"
   ]
  },
  {
   "cell_type": "code",
   "execution_count": null,
   "id": "5af661e1-5dc1-4003-9ced-93dc07471fea",
   "metadata": {},
   "outputs": [],
   "source": []
  }
 ],
 "metadata": {
  "kernelspec": {
   "display_name": "Python 3 (ipykernel)",
   "language": "python",
   "name": "python3"
  },
  "language_info": {
   "codemirror_mode": {
    "name": "ipython",
    "version": 3
   },
   "file_extension": ".py",
   "mimetype": "text/x-python",
   "name": "python",
   "nbconvert_exporter": "python",
   "pygments_lexer": "ipython3",
   "version": "3.11.9"
  }
 },
 "nbformat": 4,
 "nbformat_minor": 5
}
